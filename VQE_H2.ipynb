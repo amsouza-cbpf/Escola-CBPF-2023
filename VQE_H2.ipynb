{
 "cells": [
  {
   "cell_type": "markdown",
   "id": "6828adfa-70b9-4f05-91d6-9d3217ffe310",
   "metadata": {},
   "source": [
    " # **Exemplo 3: Variational Quantum Eigensolver**\n",
    " ## Neste exemplo vamos usar o Variational Quantum Eigensolver para encontrar o estado fundamental da molécula $H_2$\n",
    " * ### Como no exemplo 2, vamos seguir o artigo Du J., Xu N., Peng X., Wang P., Wu S., Lu D. Phys. Rev. Lett., 104, 030502 (2010)"
   ]
  },
  {
   "cell_type": "code",
   "execution_count": 1,
   "id": "917c1813-580e-4707-8b4d-b1de2e07da49",
   "metadata": {
    "tags": []
   },
   "outputs": [],
   "source": [
    "# Importing standard Qiskit libraries\n",
    "from qiskit import QuantumCircuit, transpile, QuantumRegister, ClassicalRegister, providers\n",
    "from qiskit.quantum_info import Statevector, Operator, SparsePauliOp\n",
    "from qiskit.tools.jupyter import *\n",
    "from qiskit.visualization import *\n",
    "from qiskit.tools import *\n",
    "from qiskit.providers.aer  import  noise\n",
    "from ibm_quantum_widgets import *\n",
    "from qiskit.result import QuasiDistribution\n",
    "from qiskit.extensions import UnitaryGate\n",
    "from qiskit_ibm_runtime import QiskitRuntimeService, Sampler, Estimator, Session, Options\n",
    "from qiskit.circuit.library import QFT\n",
    "from qiskit.circuit.add_control import add_control\n",
    "from qiskit.quantum_info.synthesis import OneQubitEulerDecomposer\n",
    "from qiskit.circuit import Parameter\n",
    "# Loading your IBM Quantum account(s)\n",
    "service = QiskitRuntimeService(channel=\"ibm_quantum\",token = '9fa79efa2b5d81d9ca1d5c9f33493ebc19df76d34ba3efeffff31dfce86bf83d7f0e6c527ecb4caaeb34835a429c49ad23f6ed9dc89029dabc2b73786b966663' )\n",
    "\n",
    "# Python libraries\n",
    "import matplotlib.pyplot as plt\n",
    "import scipy as sc\n",
    "import numpy as np\n",
    "import time \n",
    "from  functools import partial"
   ]
  },
  {
   "cell_type": "markdown",
   "id": "2926a016-b219-4035-a45c-1b6bcc5968e5",
   "metadata": {
    "tags": []
   },
   "source": [
    "* O circuito deve conter um ansatz para preparar o estado fundamental $|\\psi_0\\rangle$.\n",
    "* Precisamos também medir o valor médio da energia $ \\langle \\psi_0| H |\\psi_0\\rangle$, para isso vamos decompor a Hamiltoniana em matrizes de pauli:\n",
    "$H = \\begin{pmatrix}\n",
    "-1.8310 & 0.1813 \\\\\n",
    "0.1813 & -0.2537 \n",
    "\\end{pmatrix} = -1.04235 I + 0.1813 X -0.78865 Z$."
   ]
  },
  {
   "cell_type": "code",
   "execution_count": 2,
   "id": "f04a471f-c8bc-41e5-b95c-9a93fd1d7bca",
   "metadata": {
    "tags": []
   },
   "outputs": [
    {
     "data": {
      "image/png": "[encoded data removed]",
      "text/plain": [
       "<Figure size 436.286x200.667 with 1 Axes>"
      ]
     },
     "metadata": {},
     "output_type": "display_data"
    }
   ],
   "source": [
    "#Ansatz ####################\n",
    "aux = QuantumRegister(1,'q')\n",
    "\n",
    "c = ClassicalRegister(1,'c')\n",
    "\n",
    "circ = QuantumCircuit(aux,c)\n",
    "\n",
    "theta = Parameter('theta')\n",
    "phi = Parameter('alpha')\n",
    "lamb =  Parameter('lambda')\n",
    "\n",
    "circ.u(theta,phi,lamb,aux)\n",
    "\n",
    "circ.measure(aux,c)\n",
    "\n",
    "display(circuit_drawer(circ, output='mpl'))\n",
    "\n",
    "# Hamiltoniana\n",
    "#------------------------------------------------------------------------------\n",
    "h = SparsePauliOp.from_list([(\"Z\", -0.78865), (\"X\",  0.1813), (\"I\",   -1.04235)])\n",
    "#------------------------------------------------------------------------------"
   ]
  },
  {
   "cell_type": "markdown",
   "id": "1ad4966c-50e0-4f13-811a-9dc2ff6af0f4",
   "metadata": {},
   "source": [
    "* ### Vamos agora construir a função custo."
   ]
  },
  {
   "cell_type": "code",
   "execution_count": 3,
   "id": "a1e7ff28-1344-4135-a4c1-6ad1a702d12d",
   "metadata": {
    "tags": []
   },
   "outputs": [],
   "source": [
    "#função custo\n",
    "def cost_func(params, ansatz, hamiltonian, estimator):\n",
    "    # params - parâmetros do circuto para minimizar\n",
    "    # ansatz - circutio ansatz\n",
    "    # Hamiltoniana \n",
    "    # estimador\n",
    "    energy = ( estimator.run(ansatz, hamiltonian, parameter_values=params).result().values[0] )\n",
    "    return energy"
   ]
  },
  {
   "cell_type": "markdown",
   "id": "c6380b97-4812-4f0d-b299-92dbf77900a1",
   "metadata": {},
   "source": [
    "* ### Vamos agora simular o VQE com algoritmos de minimização do scipy"
   ]
  },
  {
   "cell_type": "code",
   "execution_count": 4,
   "id": "54a174ef-dbf9-4c28-bfcb-dde09e18e13d",
   "metadata": {
    "tags": []
   },
   "outputs": [
    {
     "name": "stdout",
     "output_type": "stream",
     "text": [
      "Optimization terminated successfully.The final solution is -1.84102109375\r"
     ]
    }
   ],
   "source": [
    "backend = service.backend(\"ibmq_qasm_simulator\")\n",
    "\n",
    "options = Options()\n",
    "    \n",
    "options.resilience_level = 1\n",
    "    \n",
    "options.execution.shots = 2048\n",
    "\n",
    "est = Estimator(session=backend, options=options)\n",
    "\n",
    "#compilação dos circuitos\n",
    "optimized_circ = transpile(circ,backend = backend,  optimization_level = 3)\n",
    "\n",
    "# Chute inicial\n",
    "x0 = 2 * np.pi * np.random.random(3)\n",
    "\n",
    "from scipy.optimize import minimize\n",
    "\n",
    "#função para guardar as iteraçõs e monitorar o andamento da minimização\n",
    "iteractions =[]\n",
    "fun_values = []\n",
    "def callback(current_vector, ansatz = optimized_circ, hamiltonian =h, estimator =est):\n",
    "    current_energy = estimator.run(ansatz, hamiltonian, parameter_values=current_vector).result().values[0]\n",
    "    fun_values.append(current_energy)\n",
    "    iteractions.append(len(fun_values)) \n",
    "    print(\"Iters. done: \" +  str(max(iteractions)) + \" Current Energy = \"  + str(current_energy) , end=\"\\r\")      \n",
    "\n",
    "with Session(service=service, backend= backend) as session:\n",
    "    res = minimize(cost_func, x0, args=(optimized_circ, h, est), method=\"cobyla\", callback = callback, options ={'maxiter': 50})\n",
    "    session.close()\n",
    "    \n",
    "print(res.message + \"The final solution is \" + str(res.fun) , end=\"\\r\")"
   ]
  },
  {
   "cell_type": "code",
   "execution_count": 5,
   "id": "34634627-7a77-4184-97b7-be6b9beaa339",
   "metadata": {
    "tags": []
   },
   "outputs": [
    {
     "data": {
      "image/png": "[encoded data removed]",
      "text/plain": [
       "<Figure size 640x480 with 1 Axes>"
      ]
     },
     "metadata": {},
     "output_type": "display_data"
    }
   ],
   "source": [
    "fig, ax = plt.subplots()\n",
    "ax.plot(iteractions, fun_values)\n",
    "ax.set_xlabel(\"Iterations\")\n",
    "ax.set_ylabel(\"Cost\");"
   ]
  },
  {
   "cell_type": "markdown",
   "id": "5d0766ae-e00a-44bf-9b7a-b782dc985ff5",
   "metadata": {},
   "source": [
    "### Simulação com ruído"
   ]
  },
  {
   "cell_type": "code",
   "execution_count": 6,
   "id": "3070aeeb-d561-49cb-aa2f-c55be1a8da01",
   "metadata": {
    "tags": []
   },
   "outputs": [
    {
     "name": "stdout",
     "output_type": "stream",
     "text": [
      "Optimization terminated successfully.The final solution is -1.833770849609375\r"
     ]
    }
   ],
   "source": [
    "#Vamos esoclher o computador Manila e importar suas caracteristicas\n",
    "from qiskit.providers.fake_provider import FakeManila\n",
    "fake_backend = FakeManila()\n",
    "# Modelo de ruído para o Manila\n",
    "noise_model = noise.NoiseModel.from_backend(fake_backend)\n",
    "\n",
    "# Opções para simualção com ruído.  \n",
    "options_noise = Options()\n",
    "options_noise.execution.shots = 2048\n",
    "options_noise.simulator = {\n",
    "    \"noise_model\": noise_model,\n",
    "    \"basis_gates\": fake_backend.configuration().basis_gates,\n",
    "    \"coupling_map\": fake_backend.configuration().coupling_map,\n",
    "}\n",
    "    \n",
    "options.resilience_level = 1\n",
    "\n",
    "est_noise = Estimator(session=backend, options=options)\n",
    "\n",
    "#compilação dos circuitos\n",
    "optimized_circ = transpile(circ,backend = backend,  optimization_level = 3)\n",
    "\n",
    "#função para guardar as iteraçõs e monitorar o andamento da minimização\n",
    "iteractions_noise =[]\n",
    "fun_values_noise = []\n",
    "def callback(current_vector, ansatz = optimized_circ, hamiltonian =h, estimator =est):\n",
    "    current_energy = estimator.run(ansatz, hamiltonian, parameter_values=current_vector).result().values[0]\n",
    "    fun_values_noise.append(current_energy)\n",
    "    iteractions_noise.append(len(fun_values_noise)) \n",
    "    print(\"Iters. done: \" +  str(max(iteractions_noise)) + \" Current Energy = \"  + str(current_energy) , end=\"\\r\")      \n",
    "\n",
    "with Session(service=service, backend= backend) as session:\n",
    "    res = minimize(cost_func, x0, args=(optimized_circ, h, est), method=\"cobyla\", callback = callback, options ={'maxiter': 50})\n",
    "    session.close()\n",
    "       \n",
    "print(res.message + \"The final solution is \" + str(res.fun) , end=\"\\r\")"
   ]
  },
  {
   "cell_type": "code",
   "execution_count": 7,
   "id": "6ffd2ce8-e3c4-48ac-bec6-0fd09351c6f3",
   "metadata": {
    "tags": []
   },
   "outputs": [
    {
     "data": {
      "image/png": "[encoded data removed]",
      "text/plain": [
       "<Figure size 640x480 with 1 Axes>"
      ]
     },
     "metadata": {},
     "output_type": "display_data"
    }
   ],
   "source": [
    "fig, ax = plt.subplots()\n",
    "ax.plot(iteractions, fun_values,'b',iteractions_noise, fun_values_noise,'k')\n",
    "ax.legend(['Simulation without noise','Simulation with Noise'])\n",
    "ax.set_xlabel(\"Iterations\")\n",
    "ax.set_ylabel(\"Cost\");"
   ]
  },
  {
   "cell_type": "markdown",
   "id": "fc984f6c-77ff-433d-bda1-601d13d3e331",
   "metadata": {},
   "source": [
    "### Usando VQE no pacote qiskit.algorithms.minimum_eigensolvers"
   ]
  },
  {
   "cell_type": "code",
   "execution_count": 8,
   "id": "a1946d4e-2414-48d5-95b1-405696224c2c",
   "metadata": {
    "tags": []
   },
   "outputs": [
    {
     "name": "stderr",
     "output_type": "stream",
     "text": [
      "/opt/conda/lib/python3.10/site-packages/scipy/optimize/_minimize.py:572: RuntimeWarning: Method cobyla cannot handle bounds.\n",
      "  warn('Method %s cannot handle bounds.' % method,\n"
     ]
    },
    {
     "name": "stdout",
     "output_type": "stream",
     "text": [
      "Optimization terminated successfully.  Energy = -1.8559642578125\r"
     ]
    }
   ],
   "source": [
    "from qiskit.algorithms.minimum_eigensolvers import VQE\n",
    "\n",
    "optimizer = partial(minimize, method=\"cobyla\",options = {'maxiter':50})\n",
    "\n",
    "backend = service.backend(\"ibmq_qasm_simulator\")\n",
    "\n",
    "options = Options()\n",
    "    \n",
    "options.resilience_level = 1\n",
    "    \n",
    "options.execution.shots = 2048\n",
    "\n",
    "est = Estimator(session=backend, options=options)\n",
    "\n",
    "#compilação dos circuitos\n",
    "optimized_circ = transpile(circ,backend = backend,  optimization_level = 3)\n",
    "\n",
    "# Chute inicial\n",
    "x0 = 2 * np.pi * np.random.random(3)\n",
    "\n",
    "counts = []\n",
    "values = []\n",
    "def callback(eval_count, parameters, mean, std):\n",
    "        counts.append(eval_count)\n",
    "        values.append(mean)\n",
    "        print(\"Iters. done: \" +  str(max(counts)) + \" Current Energy = \"  + str(mean) , end=\"\\r\")       \n",
    "\n",
    "vqe = VQE(ansatz = optimized_circ, optimizer = optimizer, initial_point = x0, estimator = est, callback=callback )\n",
    "\n",
    "result=vqe.compute_minimum_eigenvalue(operator = Operator(h))\n",
    "\n",
    "print(result.optimizer_result['message'] +  \"  Energy = \"  + str(result.optimizer_result['fun']) , end=\"\\r\")"
   ]
  },
  {
   "cell_type": "code",
   "execution_count": 9,
   "id": "c5960509-f156-4967-bcf6-d5a3217e1cda",
   "metadata": {
    "tags": []
   },
   "outputs": [
    {
     "data": {
      "image/png": "[encoded data removed]",
      "text/plain": [
       "<Figure size 640x480 with 1 Axes>"
      ]
     },
     "metadata": {},
     "output_type": "display_data"
    }
   ],
   "source": [
    "fig, ax = plt.subplots()\n",
    "ax.plot(counts, values)\n",
    "ax.set_xlabel(\"Iterations\")\n",
    "ax.set_ylabel(\"Cost\");"
   ]
  },
  {
   "cell_type": "code",
   "execution_count": 11,
   "id": "f5666ccc-ab03-44d4-aae7-1a8ba06ce972",
   "metadata": {
    "tags": []
   },
   "outputs": [
    {
     "name": "stdout",
     "output_type": "stream",
     "text": [
      "Traceback \u001b[1;36m(most recent call last)\u001b[0m:\n",
      "\u001b[0m  Cell \u001b[0;32mIn[11], line 28\u001b[0m\n",
      "    result=vqe.compute_minimum_eigenvalue(operator = Operator(h))\u001b[0m\n",
      "\u001b[0m  File \u001b[0;32m/opt/conda/lib/python3.10/site-packages/qiskit/algorithms/minimum_eigensolvers/vqe.py:166\u001b[0m in \u001b[0;35mcompute_minimum_eigenvalue\u001b[0m\n",
      "    self._check_operator_ansatz(operator)\u001b[0m\n",
      "\u001b[1;36m  File \u001b[1;32m/opt/conda/lib/python3.10/site-packages/qiskit/algorithms/minimum_eigensolvers/vqe.py:313\u001b[1;36m in \u001b[1;35m_check_operator_ansatz\u001b[1;36m\n",
      "\u001b[1;33m    raise AlgorithmError(\u001b[1;36m\n",
      "\u001b[1;31mAlgorithmError\u001b[0m\u001b[1;31m:\u001b[0m 'The number of qubits of the ansatz does not match the operator, and the ansatz does not allow setting the number of qubits using `num_qubits`.'\n",
      "\n",
      "Use %tb to get the full traceback.\n"
     ]
    },
    {
     "data": {
      "text/html": [
       "\n",
       "<style>\n",
       ".button {\n",
       "  border: none;\n",
       "  color: white;\n",
       "  padding: 4px 8px;\n",
       "  text-align: center;\n",
       "  text-decoration: none;\n",
       "  display: inline-block;\n",
       "  font-size: 12px;\n",
       "  margin: 4px 2px;\n",
       "  transition-duration: 0.2s;\n",
       "  cursor: pointer;\n",
       "}\n",
       ".iqx-button {\n",
       "  background-color: #0f62fe; \n",
       "  color: white; \n",
       "}\n",
       ".iqx-button:hover {\n",
       "  background-color: #0043ce;\n",
       "  color: white;\n",
       "}\n",
       "</style>\n",
       "<a href=\"https://stackoverflow.com/search?q=AlgorithmError: The number of qubits of the ansatz does not match the operator, and the ansatz does not allow setting the number of qubits using `num_qubits`.\" target='_blank'><button class='button iqx-button'>Search for solution online</button></a>\n"
      ],
      "text/plain": [
       "<IPython.core.display.HTML object>"
      ]
     },
     "metadata": {},
     "output_type": "display_data"
    }
   ],
   "source": [
    "backend = service.backend('ibm_manila')\n",
    "\n",
    "options = Options()\n",
    "    \n",
    "options.resilience_level = 1\n",
    "    \n",
    "options.execution.shots = 2048\n",
    "\n",
    "est = Estimator(session=backend, options=options)\n",
    "\n",
    "#compilação dos circuitos\n",
    "optimized_circ = transpile(circ,backend = backend,  optimization_level = 3)\n",
    "\n",
    "# Hamiltoniana\n",
    "#------------------------------------------------------------------------------\n",
    "h = SparsePauliOp.from_list([(\"IIIZI\", -0.78865), (\"IIIXI\",  0.1813), (\"IIIII\",   -1.04235)])\n",
    "#------------------------------------------------------------------------------\n",
    "\n",
    "counts_real = []\n",
    "values_real = []\n",
    "def callback(eval_count, parameters, mean, std):\n",
    "        counts_real.append(eval_count)\n",
    "        values_real.append(mean)\n",
    "        print(\"Iters. done: \" +  str(max(counts)) + \" Current Energy = \"  + str(mean) , end=\"\\r\")       \n",
    "\n",
    "vqe = VQE(ansatz = optimized_circ, optimizer = optimizer, initial_point = x0, estimator = est, callback=callback )\n",
    "\n",
    "result=vqe.compute_minimum_eigenvalue(operator = Operator(h))\n",
    "\n",
    "print(result.optimizer_result['message'] +  \"  Energy = \"  + str(result.optimizer_result['fun']) , end=\"\\r\")"
   ]
  },
  {
   "cell_type": "code",
   "execution_count": null,
   "id": "168f3d6a-9f9d-4bd0-8476-cfef25d42ea1",
   "metadata": {},
   "outputs": [],
   "source": []
  }
 ],
 "metadata": {
  "kernelspec": {
   "display_name": "Python 3 (ipykernel)",
   "language": "python",
   "name": "python3"
  },
  "language_info": {
   "codemirror_mode": {
    "name": "ipython",
    "version": 3
   },
   "file_extension": ".py",
   "mimetype": "text/x-python",
   "name": "python",
   "nbconvert_exporter": "python",
   "pygments_lexer": "ipython3",
   "version": "3.10.8"
  },
  "widgets": {
   "application/vnd.jupyter.widget-state+json": {
    "state": {
     "1091cc51b14a4cc786486447c0d29c46": {
      "model_module": "@jupyter-widgets/controls",
      "model_module_version": "2.0.0",
      "model_name": "GridBoxModel",
      "state": {
       "children": [
        "IPY_MODEL_27726f7fd79f4df4940214e222ec223c"
       ],
       "layout": "IPY_MODEL_404727722f204b89b11c6228957f2574"
      }
     },
     "14d7a9718d304d0fba44d1417ea45ed1": {
      "model_module": "@jupyter-widgets/controls",
      "model_module_version": "2.0.0",
      "model_name": "HTMLModel",
      "state": {
       "layout": "IPY_MODEL_8ea2e8612310448b9f63f55f9b655c12",
       "style": "IPY_MODEL_ffbfa959692e42d8b09e26c466e8a5da",
       "value": "<h5>Backend</h5>"
      }
     },
     "22b5164642574093a343cbe2c633865c": {
      "model_module": "@jupyter-widgets/base",
      "model_module_version": "2.0.0",
      "model_name": "LayoutModel",
      "state": {}
     },
     "27726f7fd79f4df4940214e222ec223c": {
      "model_module": "@jupyter-widgets/controls",
      "model_module_version": "2.0.0",
      "model_name": "ButtonModel",
      "state": {
       "button_style": "primary",
       "description": "Clear",
       "layout": "IPY_MODEL_a655b796cfc042f681bd21074269bb6d",
       "style": "IPY_MODEL_ecfcd86f50d540549a3735299143115f",
       "tooltip": null
      }
     },
     "2a295059916a4cefb0977a71a67b5a67": {
      "model_module": "@jupyter-widgets/controls",
      "model_module_version": "2.0.0",
      "model_name": "HTMLStyleModel",
      "state": {
       "description_width": "",
       "font_size": null,
       "text_color": null
      }
     },
     "3a48a649eaad4573abbc74300f8567d3": {
      "model_module": "@jupyter-widgets/controls",
      "model_module_version": "2.0.0",
      "model_name": "HTMLStyleModel",
      "state": {
       "description_width": "",
       "font_size": null,
       "text_color": null
      }
     },
     "404727722f204b89b11c6228957f2574": {
      "model_module": "@jupyter-widgets/base",
      "model_module_version": "2.0.0",
      "model_name": "LayoutModel",
      "state": {
       "grid_template_areas": "\n                                       \". . . . right \"\n                                        ",
       "grid_template_columns": "20% 20% 20% 20% 20%",
       "width": "100%"
      }
     },
     "4f01d449e59c419ca4c374027d2d55cc": {
      "model_module": "@jupyter-widgets/base",
      "model_module_version": "2.0.0",
      "model_name": "LayoutModel",
      "state": {
       "margin": "0px 0px 0px 37px",
       "width": "600px"
      }
     },
     "555cd5b4464c40b8b8c700c65b432379": {
      "model_module": "@jupyter-widgets/controls",
      "model_module_version": "2.0.0",
      "model_name": "HTMLModel",
      "state": {
       "layout": "IPY_MODEL_570d99aef0164d06a2d00eb8dba36827",
       "style": "IPY_MODEL_e482a1bb1c564048ae10803fcb0f9a2b",
       "value": "<h5>Job ID</h5>"
      }
     },
     "570d99aef0164d06a2d00eb8dba36827": {
      "model_module": "@jupyter-widgets/base",
      "model_module_version": "2.0.0",
      "model_name": "LayoutModel",
      "state": {
       "width": "190px"
      }
     },
     "8268afd86f0840c7bfef0a0b224599a6": {
      "model_module": "@jupyter-widgets/controls",
      "model_module_version": "2.0.0",
      "model_name": "HTMLModel",
      "state": {
       "layout": "IPY_MODEL_829df533424344c7a84b9d187d1cbeed",
       "style": "IPY_MODEL_2a295059916a4cefb0977a71a67b5a67",
       "value": "<h5>Status</h5>"
      }
     },
     "829df533424344c7a84b9d187d1cbeed": {
      "model_module": "@jupyter-widgets/base",
      "model_module_version": "2.0.0",
      "model_name": "LayoutModel",
      "state": {
       "width": "95px"
      }
     },
     "834366b851db4eaab736a4a2de45d405": {
      "model_module": "@jupyter-widgets/controls",
      "model_module_version": "2.0.0",
      "model_name": "HTMLStyleModel",
      "state": {
       "description_width": "",
       "font_size": null,
       "text_color": null
      }
     },
     "8ea2e8612310448b9f63f55f9b655c12": {
      "model_module": "@jupyter-widgets/base",
      "model_module_version": "2.0.0",
      "model_name": "LayoutModel",
      "state": {
       "width": "145px"
      }
     },
     "92d78b48f5d04fd5b03124030cc26fd7": {
      "model_module": "@jupyter-widgets/base",
      "model_module_version": "2.0.0",
      "model_name": "LayoutModel",
      "state": {
       "margin": "0px 0px 10px 0px"
      }
     },
     "9d385c4b9c76406ebf8c4713552bdd72": {
      "model_module": "@jupyter-widgets/controls",
      "model_module_version": "2.0.0",
      "model_name": "HBoxModel",
      "state": {
       "children": [
        "IPY_MODEL_555cd5b4464c40b8b8c700c65b432379",
        "IPY_MODEL_14d7a9718d304d0fba44d1417ea45ed1",
        "IPY_MODEL_8268afd86f0840c7bfef0a0b224599a6",
        "IPY_MODEL_dfcefb1a3377440f81d52d8bc29774b1",
        "IPY_MODEL_dd06d066d5014e2eb9876b55cf2d8516"
       ],
       "layout": "IPY_MODEL_4f01d449e59c419ca4c374027d2d55cc"
      }
     },
     "9ed0fdcf174446c8be5d960b5c58bae4": {
      "model_module": "@jupyter-widgets/controls",
      "model_module_version": "2.0.0",
      "model_name": "HTMLStyleModel",
      "state": {
       "description_width": "",
       "font_size": null,
       "text_color": null
      }
     },
     "a655b796cfc042f681bd21074269bb6d": {
      "model_module": "@jupyter-widgets/base",
      "model_module_version": "2.0.0",
      "model_name": "LayoutModel",
      "state": {
       "grid_area": "right",
       "padding": "0px 0px 0px 0px",
       "width": "70px"
      }
     },
     "aa1c68b31f7b41668090bcaa0a183158": {
      "model_module": "@jupyter-widgets/controls",
      "model_module_version": "2.0.0",
      "model_name": "HTMLModel",
      "state": {
       "layout": "IPY_MODEL_92d78b48f5d04fd5b03124030cc26fd7",
       "style": "IPY_MODEL_9ed0fdcf174446c8be5d960b5c58bae4",
       "value": "<p style='font-family: IBM Plex Sans, Arial, Helvetica, sans-serif; font-size: 20px; font-weight: medium;'>Circuit Properties</p>"
      }
     },
     "c4c17794f0b3488cb5dac5f3c3297591": {
      "model_module": "@jupyter-widgets/base",
      "model_module_version": "2.0.0",
      "model_name": "LayoutModel",
      "state": {
       "width": "70px"
      }
     },
     "dd06d066d5014e2eb9876b55cf2d8516": {
      "model_module": "@jupyter-widgets/controls",
      "model_module_version": "2.0.0",
      "model_name": "HTMLModel",
      "state": {
       "layout": "IPY_MODEL_22b5164642574093a343cbe2c633865c",
       "style": "IPY_MODEL_3a48a649eaad4573abbc74300f8567d3",
       "value": "<h5>Message</h5>"
      }
     },
     "dfcefb1a3377440f81d52d8bc29774b1": {
      "model_module": "@jupyter-widgets/controls",
      "model_module_version": "2.0.0",
      "model_name": "HTMLModel",
      "state": {
       "layout": "IPY_MODEL_c4c17794f0b3488cb5dac5f3c3297591",
       "style": "IPY_MODEL_834366b851db4eaab736a4a2de45d405",
       "value": "<h5>Queue</h5>"
      }
     },
     "e482a1bb1c564048ae10803fcb0f9a2b": {
      "model_module": "@jupyter-widgets/controls",
      "model_module_version": "2.0.0",
      "model_name": "HTMLStyleModel",
      "state": {
       "description_width": "",
       "font_size": null,
       "text_color": null
      }
     },
     "ecfcd86f50d540549a3735299143115f": {
      "model_module": "@jupyter-widgets/controls",
      "model_module_version": "2.0.0",
      "model_name": "ButtonStyleModel",
      "state": {
       "font_family": null,
       "font_size": null,
       "font_style": null,
       "font_variant": null,
       "font_weight": null,
       "text_color": null,
       "text_decoration": null
      }
     },
     "ffbfa959692e42d8b09e26c466e8a5da": {
      "model_module": "@jupyter-widgets/controls",
      "model_module_version": "2.0.0",
      "model_name": "HTMLStyleModel",
      "state": {
       "description_width": "",
       "font_size": null,
       "text_color": null
      }
     }
    },
    "version_major": 2,
    "version_minor": 0
   }
  }
 },
 "nbformat": 4,
 "nbformat_minor": 5
}
